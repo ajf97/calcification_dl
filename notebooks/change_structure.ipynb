{
 "cells": [
  {
   "cell_type": "code",
   "execution_count": 1,
   "metadata": {},
   "outputs": [],
   "source": [
    "import os \n",
    "import pydicom"
   ]
  },
  {
   "cell_type": "code",
   "execution_count": 53,
   "metadata": {},
   "outputs": [],
   "source": [
    "def rename_dcm_file(file_path: str) -> str:\n",
    "    # Check description of folder\n",
    "    folder_description: str = file_path.split(os.sep)[-2]\n",
    "    new_name: str = \"\"\n",
    "\n",
    "    if \"full\" in folder_description:\n",
    "        new_name = file_path.split(os.sep)[-4] + \"_FULL\" + \".dcm\"\n",
    "    elif \"ROI\" in folder_description:\n",
    "        # Check file number\n",
    "        file_number = file_path.split(os.sep)[-1].replace(\".dcm\", \"\").split(\"-\")[-1]\n",
    "\n",
    "        if file_number == \"1\":\n",
    "            new_name = file_path.split(os.sep)[-4] + \"_CROP\" + \".dcm\"\n",
    "        elif file_number == \"2\":\n",
    "            new_name = file_path.split(os.sep)[-4] + \"_MASK\" + \".dcm\"\n",
    "\n",
    "    return new_name"
   ]
  },
  {
   "cell_type": "code",
   "execution_count": 48,
   "metadata": {},
   "outputs": [],
   "source": [
    "path_full = \"D:\\\\data\\\\Calc-Test_P_00038_LEFT_CC\\\\08-29-2017-DDSM-NA-96009\\\\1.000000-full mammogram images-63992\\\\1-1.dcm\"\n",
    "\n",
    "path_roi = \"D:\\\\data\\\\Calc-Test_P_00038_LEFT_CC_1\\\\08-29-2017-DDSM-NA-94942\\\\1.000000-ROI mask images-18515\\\\1-1.dcm\"\n",
    "\n",
    "path_mask = \"D:\\data\\Calc-Test_P_00038_LEFT_CC_1\\\\08-29-2017-DDSM-NA-94942\\\\1.000000-ROI mask images-18515\\\\1-2.dcm\"\n",
    "\n",
    "img_full = rename_dcm_file(path_full)"
   ]
  },
  {
   "cell_type": "code",
   "execution_count": 50,
   "metadata": {},
   "outputs": [
    {
     "data": {
      "text/plain": [
       "'Calc-Test_P_00038_LEFT_CC_1_CROP.dcm'"
      ]
     },
     "execution_count": 50,
     "metadata": {},
     "output_type": "execute_result"
    }
   ],
   "source": [
    "rename_dcm_file(path_roi)"
   ]
  },
  {
   "cell_type": "code",
   "execution_count": 55,
   "metadata": {},
   "outputs": [
    {
     "name": "stdout",
     "output_type": "stream",
     "text": [
      "Calc-Test_P_00038_LEFT_CC_FULL.dcm\n",
      "Calc-Test_P_00038_LEFT_CC_1_CROP.dcm\n",
      "Calc-Test_P_00038_LEFT_CC_1_MASK.dcm\n",
      "Calc-Test_P_00038_LEFT_MLO_FULL.dcm\n",
      "Calc-Test_P_00038_LEFT_MLO_1_CROP.dcm\n",
      "Calc-Test_P_00038_LEFT_MLO_1_MASK.dcm\n",
      "Calc-Test_P_00038_RIGHT_CC_FULL.dcm\n",
      "Calc-Test_P_00038_RIGHT_CC_1_CROP.dcm\n",
      "Calc-Test_P_00038_RIGHT_CC_1_MASK.dcm\n",
      "Calc-Test_P_00038_RIGHT_CC_2_CROP.dcm\n",
      "Calc-Test_P_00038_RIGHT_CC_2_MASK.dcm\n",
      "Calc-Test_P_00038_RIGHT_MLO_FULL.dcm\n",
      "Calc-Test_P_00038_RIGHT_MLO_1_CROP.dcm\n",
      "Calc-Test_P_00038_RIGHT_MLO_1_MASK.dcm\n",
      "Calc-Test_P_00038_RIGHT_MLO_2_CROP.dcm\n",
      "Calc-Test_P_00038_RIGHT_MLO_2_MASK.dcm\n",
      "Calc-Test_P_00041_LEFT_CC_FULL.dcm\n",
      "Calc-Test_P_00041_LEFT_CC_2_CROP.dcm\n",
      "Calc-Test_P_00041_LEFT_CC_2_MASK.dcm\n",
      "Calc-Test_P_00041_LEFT_MLO_FULL.dcm\n",
      "Calc-Test_P_00041_LEFT_MLO_2_CROP.dcm\n",
      "Calc-Test_P_00041_LEFT_MLO_2_MASK.dcm\n",
      "Calc-Test_P_00077_LEFT_CC_FULL.dcm\n",
      "Calc-Test_P_00077_LEFT_CC_1_CROP.dcm\n",
      "Calc-Test_P_00077_LEFT_CC_1_MASK.dcm\n",
      "Calc-Test_P_00077_LEFT_MLO_FULL.dcm\n",
      "Calc-Test_P_00077_LEFT_MLO_1_CROP.dcm\n",
      "Calc-Test_P_00077_LEFT_MLO_1_MASK.dcm\n",
      "Calc-Test_P_00077_RIGHT_CC_FULL.dcm\n",
      "Calc-Test_P_00077_RIGHT_CC_1_CROP.dcm\n",
      "Calc-Test_P_00077_RIGHT_CC_1_MASK.dcm\n",
      "Calc-Test_P_00077_RIGHT_CC_2_CROP.dcm\n",
      "Calc-Test_P_00077_RIGHT_CC_2_MASK.dcm\n",
      "Calc-Test_P_00077_RIGHT_MLO_FULL.dcm\n",
      "Calc-Test_P_00077_RIGHT_MLO_1_CROP.dcm\n",
      "Calc-Test_P_00077_RIGHT_MLO_1_MASK.dcm\n",
      "Calc-Test_P_00077_RIGHT_MLO_2_CROP.dcm\n",
      "Calc-Test_P_00077_RIGHT_MLO_2_MASK.dcm\n",
      "Calc-Test_P_00100_RIGHT_CC_FULL.dcm\n",
      "Calc-Test_P_00100_RIGHT_CC_1_CROP.dcm\n",
      "Calc-Test_P_00100_RIGHT_CC_1_MASK.dcm\n",
      "Calc-Test_P_00100_RIGHT_MLO_FULL.dcm\n",
      "Calc-Test_P_00100_RIGHT_MLO_1_CROP.dcm\n",
      "Calc-Test_P_00100_RIGHT_MLO_1_MASK.dcm\n",
      "Calc-Test_P_00127_RIGHT_CC_FULL.dcm\n",
      "Calc-Test_P_00127_RIGHT_CC_1_CROP.dcm\n",
      "Calc-Test_P_00127_RIGHT_CC_1_MASK.dcm\n",
      "Calc-Test_P_00127_RIGHT_MLO_FULL.dcm\n",
      "Calc-Test_P_00127_RIGHT_MLO_1_CROP.dcm\n",
      "Calc-Test_P_00127_RIGHT_MLO_1_MASK.dcm\n"
     ]
    }
   ],
   "source": [
    "for root, dirs, files in os.walk(\"D:\\\\data\"):\n",
    "\tfor file in files:\n",
    "\t\tprint(rename_dcm_file(os.path.join(root, file)))"
   ]
  }
 ],
 "metadata": {
  "kernelspec": {
   "display_name": "Python 3.9.12 ('tfm')",
   "language": "python",
   "name": "python3"
  },
  "language_info": {
   "codemirror_mode": {
    "name": "ipython",
    "version": 3
   },
   "file_extension": ".py",
   "mimetype": "text/x-python",
   "name": "python",
   "nbconvert_exporter": "python",
   "pygments_lexer": "ipython3",
   "version": "3.9.12"
  },
  "orig_nbformat": 4,
  "vscode": {
   "interpreter": {
    "hash": "93ecaaee964c96ed875d28b68b671205b8b4aa3ce05e0c5526fc46d399f97995"
   }
  }
 },
 "nbformat": 4,
 "nbformat_minor": 2
}
