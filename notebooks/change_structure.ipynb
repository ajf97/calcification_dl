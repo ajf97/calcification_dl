{
 "cells": [
  {
   "cell_type": "code",
   "execution_count": 12,
   "metadata": {},
   "outputs": [],
   "source": [
    "import os\n",
    "import shutil\n",
    "import pydicom"
   ]
  },
  {
   "cell_type": "code",
   "execution_count": 8,
   "metadata": {},
   "outputs": [],
   "source": [
    "def new_name_dcm_file(file_path: str) -> str:\n",
    "    # Check description of folder\n",
    "    folder_description: str = file_path.split(os.sep)[-2]\n",
    "    new_name: str = \"\"\n",
    "\n",
    "    if \"full\" in folder_description:\n",
    "        new_name = file_path.split(os.sep)[-4] + \"_FULL\" + \".dcm\"\n",
    "    elif \"ROI\" in folder_description:\n",
    "        # Check file number\n",
    "        file_number = file_path.split(os.sep)[-1].replace(\".dcm\", \"\").split(\"-\")[-1]\n",
    "\n",
    "        if file_number == \"1\":\n",
    "            new_name = file_path.split(os.sep)[-4] + \"_CROP\" + \".dcm\"\n",
    "        elif file_number == \"2\":\n",
    "            new_name = file_path.split(os.sep)[-4] + \"_MASK\" + \".dcm\"\n",
    "\n",
    "    return new_name"
   ]
  },
  {
   "cell_type": "code",
   "execution_count": 9,
   "metadata": {},
   "outputs": [],
   "source": [
    "path_full = \"D:\\\\data\\\\Calc-Test_P_00038_LEFT_CC\\\\08-29-2017-DDSM-NA-96009\\\\1.000000-full mammogram images-63992\\\\1-1.dcm\"\n",
    "\n",
    "path_roi = \"D:\\\\data\\\\Calc-Test_P_00038_LEFT_CC_1\\\\08-29-2017-DDSM-NA-94942\\\\1.000000-ROI mask images-18515\\\\1-1.dcm\"\n",
    "\n",
    "path_mask = \"D:\\data\\Calc-Test_P_00038_LEFT_CC_1\\\\08-29-2017-DDSM-NA-94942\\\\1.000000-ROI mask images-18515\\\\1-2.dcm\"\n",
    "\n",
    "img_full = new_name_dcm_file(path_full)"
   ]
  },
  {
   "cell_type": "code",
   "execution_count": 10,
   "metadata": {},
   "outputs": [
    {
     "name": "stdout",
     "output_type": "stream",
     "text": [
      "Calc-Test_P_00038_LEFT_CC_FULL.dcm\n",
      "Calc-Test_P_00038_LEFT_CC_1_CROP.dcm\n",
      "Calc-Test_P_00038_LEFT_CC_1_MASK.dcm\n",
      "Calc-Test_P_00038_LEFT_MLO_FULL.dcm\n",
      "Calc-Test_P_00038_LEFT_MLO_1_CROP.dcm\n",
      "Calc-Test_P_00038_LEFT_MLO_1_MASK.dcm\n",
      "Calc-Test_P_00038_RIGHT_CC_FULL.dcm\n",
      "Calc-Test_P_00038_RIGHT_CC_1_CROP.dcm\n",
      "Calc-Test_P_00038_RIGHT_CC_1_MASK.dcm\n",
      "Calc-Test_P_00038_RIGHT_CC_2_CROP.dcm\n",
      "Calc-Test_P_00038_RIGHT_CC_2_MASK.dcm\n",
      "Calc-Test_P_00038_RIGHT_MLO_FULL.dcm\n",
      "Calc-Test_P_00038_RIGHT_MLO_1_CROP.dcm\n",
      "Calc-Test_P_00038_RIGHT_MLO_1_MASK.dcm\n",
      "Calc-Test_P_00038_RIGHT_MLO_2_CROP.dcm\n",
      "Calc-Test_P_00038_RIGHT_MLO_2_MASK.dcm\n",
      "Calc-Test_P_00041_LEFT_CC_FULL.dcm\n",
      "Calc-Test_P_00041_LEFT_CC_2_CROP.dcm\n",
      "Calc-Test_P_00041_LEFT_CC_2_MASK.dcm\n",
      "Calc-Test_P_00041_LEFT_MLO_FULL.dcm\n",
      "Calc-Test_P_00041_LEFT_MLO_2_CROP.dcm\n",
      "Calc-Test_P_00041_LEFT_MLO_2_MASK.dcm\n",
      "Calc-Test_P_00077_LEFT_CC_FULL.dcm\n",
      "Calc-Test_P_00077_LEFT_CC_1_CROP.dcm\n",
      "Calc-Test_P_00077_LEFT_CC_1_MASK.dcm\n",
      "Calc-Test_P_00077_LEFT_MLO_FULL.dcm\n",
      "Calc-Test_P_00077_LEFT_MLO_1_CROP.dcm\n",
      "Calc-Test_P_00077_LEFT_MLO_1_MASK.dcm\n",
      "Calc-Test_P_00077_RIGHT_CC_FULL.dcm\n",
      "Calc-Test_P_00077_RIGHT_CC_1_CROP.dcm\n",
      "Calc-Test_P_00077_RIGHT_CC_1_MASK.dcm\n",
      "Calc-Test_P_00077_RIGHT_CC_2_CROP.dcm\n",
      "Calc-Test_P_00077_RIGHT_CC_2_MASK.dcm\n",
      "Calc-Test_P_00077_RIGHT_MLO_FULL.dcm\n",
      "Calc-Test_P_00077_RIGHT_MLO_1_CROP.dcm\n",
      "Calc-Test_P_00077_RIGHT_MLO_1_MASK.dcm\n",
      "Calc-Test_P_00077_RIGHT_MLO_2_CROP.dcm\n",
      "Calc-Test_P_00077_RIGHT_MLO_2_MASK.dcm\n",
      "Calc-Test_P_00100_RIGHT_CC_FULL.dcm\n",
      "Calc-Test_P_00100_RIGHT_CC_1_CROP.dcm\n",
      "Calc-Test_P_00100_RIGHT_CC_1_MASK.dcm\n",
      "Calc-Test_P_00100_RIGHT_MLO_FULL.dcm\n",
      "Calc-Test_P_00100_RIGHT_MLO_1_CROP.dcm\n",
      "Calc-Test_P_00100_RIGHT_MLO_1_MASK.dcm\n",
      "Calc-Test_P_00127_RIGHT_CC_FULL.dcm\n",
      "Calc-Test_P_00127_RIGHT_CC_1_CROP.dcm\n",
      "Calc-Test_P_00127_RIGHT_CC_1_MASK.dcm\n",
      "Calc-Test_P_00127_RIGHT_MLO_FULL.dcm\n",
      "Calc-Test_P_00127_RIGHT_MLO_1_CROP.dcm\n",
      "Calc-Test_P_00127_RIGHT_MLO_1_MASK.dcm\n"
     ]
    }
   ],
   "source": [
    "for root, dirs, files in os.walk(\"D:\\\\data\"):\n",
    "\tfor file in files:\n",
    "\t\tprint(new_name_dcm_file(os.path.join(root, file)))"
   ]
  },
  {
   "cell_type": "code",
   "execution_count": 14,
   "metadata": {},
   "outputs": [],
   "source": [
    "def make_directories(path: str) -> None:\n",
    "\t# Make a directory with different lessions\n",
    "\tpath_calc = os.path.join(path, \"Calc\")\n",
    "\tpath_mass = os.path.join(path, \"Mass\")\n",
    "\n",
    "\tos.mkdir(path_calc)\n",
    "\tos.mkdir(path_mass)\n",
    "\n",
    "\t# Create train and test folders for every lession type\n",
    "\tpath_calc_train = os.path.join(path_calc, \"Train\")\n",
    "\tpath_calc_test = os.path.join(path_calc, \"Test\")\n",
    "\tpath_mass_train = os.path.join(path_mass, \"Train\")\n",
    "\tpath_mass_test = os.path.join(path_mass, \"Test\")\n",
    "\n",
    "\tos.mkdir(path_calc_train)\n",
    "\tos.mkdir(path_calc_test)\n",
    "\tos.mkdir(path_mass_train)\n",
    "\tos.mkdir(path_mass_test)\n",
    "\n",
    "def restructure_dataset(path: str) -> None:\n",
    "\tmake_directories(path)\n",
    "\n",
    "\tfor root, _, files in os.walk(path):\n",
    "\t\tfor file in files:\n",
    "\t\t\t# Rename file\n",
    "\t\t\told_name_path = os.path.join(root, file)\n",
    "\t\t\tnew_name = new_name_dcm_file(old_name_path)\n",
    "\t\t\tos.rename(old_name_path, os.path.join(root, new_name))\n",
    "\n",
    "\t\t\t# Move file to folder\n",
    "\t\t\tlession_type = new_name.split(\"_\")[0].split(\"-\")[0]\n",
    "\t\t\ttrain_or_test = new_name.split(\"_\")[0].split(\"-\")[1]\n",
    "\t\t\tshutil.move(os.path.join(root, new_name), os.path.join(path, lession_type, train_or_test, new_name))\n",
    "\t\n",
    "\tremove_empty_folders(path)\t\t\t"
   ]
  },
  {
   "cell_type": "code",
   "execution_count": 18,
   "metadata": {},
   "outputs": [],
   "source": [
    "def remove_empty_folders(path_abs: str) -> None:\n",
    "    walk = list(os.walk(path_abs))\n",
    "    for path, _, _ in walk[::-1]:\n",
    "        if len(os.listdir(path)) == 0:\n",
    "            shutil.rmtree(path)\n",
    "\n",
    "remove_empty_folders(\"D:\\\\data\\\\testa\")"
   ]
  }
 ],
 "metadata": {
  "kernelspec": {
   "display_name": "Python 3.9.12 ('tfm')",
   "language": "python",
   "name": "python3"
  },
  "language_info": {
   "codemirror_mode": {
    "name": "ipython",
    "version": 3
   },
   "file_extension": ".py",
   "mimetype": "text/x-python",
   "name": "python",
   "nbconvert_exporter": "python",
   "pygments_lexer": "ipython3",
   "version": "3.9.12"
  },
  "orig_nbformat": 4,
  "vscode": {
   "interpreter": {
    "hash": "93ecaaee964c96ed875d28b68b671205b8b4aa3ce05e0c5526fc46d399f97995"
   }
  }
 },
 "nbformat": 4,
 "nbformat_minor": 2
}
